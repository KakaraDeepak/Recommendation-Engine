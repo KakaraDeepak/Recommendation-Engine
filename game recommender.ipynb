{
 "cells": [
  {
   "cell_type": "code",
   "execution_count": 1,
   "metadata": {},
   "outputs": [],
   "source": [
    "# Importing all required libraries, modules\n",
    "import pandas as pd\n",
    "from sklearn.feature_extraction.text import TfidfVectorizer\n",
    "from sklearn.metrics.pairwise import cosine_similarity\n",
    "import joblib"
   ]
  },
  {
   "cell_type": "code",
   "execution_count": 2,
   "metadata": {},
   "outputs": [],
   "source": [
    "# import Dataset \n",
    "game = pd.read_csv(r\"game.csv\", encoding = 'utf8')"
   ]
  },
  {
   "cell_type": "code",
   "execution_count": 3,
   "metadata": {},
   "outputs": [],
   "source": [
    "# Droping of duplicates \n",
    "game.drop_duplicates(subset=\"game\", keep=\"first\", inplace=True)"
   ]
  },
  {
   "cell_type": "code",
   "execution_count": 4,
   "metadata": {},
   "outputs": [],
   "source": [
    "game.reset_index(drop=True, inplace=True)"
   ]
  },
  {
   "cell_type": "code",
   "execution_count": 6,
   "metadata": {},
   "outputs": [],
   "source": [
    "# Create a Tfidf Vectorizer to remove all stop words\n",
    "tfidf = TfidfVectorizer(stop_words = \"english\")   # taking stop words from tfidf vectorizer \n",
    "\n",
    "# Transform a count matrix to a normalized tf-idf representation\n",
    "tfidf_matrix = tfidf.fit(game.game)  "
   ]
  },
  {
   "cell_type": "code",
   "execution_count": 7,
   "metadata": {},
   "outputs": [
    {
     "data": {
      "text/plain": [
       "['matrix']"
      ]
     },
     "execution_count": 7,
     "metadata": {},
     "output_type": "execute_result"
    }
   ],
   "source": [
    "# Save the Pipeline for tfidf matrix\n",
    "joblib.dump(tfidf_matrix, 'matrix')"
   ]
  },
  {
   "cell_type": "code",
   "execution_count": 8,
   "metadata": {},
   "outputs": [
    {
     "data": {
      "text/plain": [
       "(3438, 3068)"
      ]
     },
     "execution_count": 8,
     "metadata": {},
     "output_type": "execute_result"
    }
   ],
   "source": [
    "tfidf_matrix = tfidf_matrix.transform(game.game)\n",
    "\n",
    "tfidf_matrix.shape "
   ]
  },
  {
   "cell_type": "code",
   "execution_count": 9,
   "metadata": {},
   "outputs": [],
   "source": [
    "# cosine(x, y)= (x.y⊺) / (||x||.||y||)\n",
    "# Computing the cosine similarity on Tfidf matrix\n",
    "\n",
    "cosine_sim_matrix = cosine_similarity(tfidf_matrix, tfidf_matrix)\n",
    "\n",
    "# Create a mapping of anime name to index number\n",
    "game_index = pd.Series(game.index, index=game['game'])"
   ]
  },
  {
   "cell_type": "code",
   "execution_count": 10,
   "metadata": {},
   "outputs": [
    {
     "data": {
      "text/plain": [
       "3"
      ]
     },
     "execution_count": 10,
     "metadata": {},
     "output_type": "execute_result"
    }
   ],
   "source": [
    "# Example\n",
    "game_id = game_index['SoulCalibur']\n",
    "\n",
    "game_id"
   ]
  },
  {
   "cell_type": "code",
   "execution_count": 12,
   "metadata": {},
   "outputs": [],
   "source": [
    "# Custom Function to Find the TopN Movies to be Recommended\n",
    "\n",
    "def get_recommendations(Tittle, topN):    \n",
    "    # topN = 10\n",
    "    # Getting the movie index using its title \n",
    "    game_id = game_index[Tittle]\n",
    "    \n",
    "    # Getting the pair wise similarity score for all the anime's with that \n",
    "    # anime\n",
    "    cosine_scores = list(enumerate(cosine_sim_matrix[game_id]))\n",
    "    \n",
    "    # Sorting the cosine_similarity scores based on scores \n",
    "    cosine_scores = sorted(cosine_scores, key = lambda x:x[1], reverse = True)\n",
    "    \n",
    "    # Get the scores of top N most similar movies \n",
    "    cosine_scores_N = cosine_scores[0: topN + 1]\n",
    "    \n",
    "    # Getting the movie index \n",
    "    game_idx  =  [i[0] for i in cosine_scores_N]\n",
    "    game_scores =  [i[1] for i in cosine_scores_N]\n",
    "    \n",
    "    # Similar movies and scores\n",
    "    game_similar_show = pd.DataFrame(columns = [\"game\", \"rating\"])\n",
    "    game_similar_show[\"game\"] = game.loc[game_idx, \"game\"]\n",
    "    game_similar_show[\"rating\"] = game_scores\n",
    "    game_similar_show.reset_index(inplace = True)  \n",
    "    \n",
    "    return(game_similar_show.iloc[1:, ])"
   ]
  },
  {
   "cell_type": "code",
   "execution_count": 13,
   "metadata": {},
   "outputs": [
    {
     "data": {
      "text/html": [
       "<div>\n",
       "<style scoped>\n",
       "    .dataframe tbody tr th:only-of-type {\n",
       "        vertical-align: middle;\n",
       "    }\n",
       "\n",
       "    .dataframe tbody tr th {\n",
       "        vertical-align: top;\n",
       "    }\n",
       "\n",
       "    .dataframe thead th {\n",
       "        text-align: right;\n",
       "    }\n",
       "</style>\n",
       "<table border=\"1\" class=\"dataframe\">\n",
       "  <thead>\n",
       "    <tr style=\"text-align: right;\">\n",
       "      <th></th>\n",
       "      <th>index</th>\n",
       "      <th>game</th>\n",
       "      <th>rating</th>\n",
       "    </tr>\n",
       "  </thead>\n",
       "  <tbody>\n",
       "    <tr>\n",
       "      <th>1</th>\n",
       "      <td>2233</td>\n",
       "      <td>Perfect Dark Zero</td>\n",
       "      <td>0.839272</td>\n",
       "    </tr>\n",
       "    <tr>\n",
       "      <th>2</th>\n",
       "      <td>1207</td>\n",
       "      <td>TimeSplitters: Future Perfect</td>\n",
       "      <td>0.472480</td>\n",
       "    </tr>\n",
       "    <tr>\n",
       "      <th>3</th>\n",
       "      <td>406</td>\n",
       "      <td>Dark Souls</td>\n",
       "      <td>0.381355</td>\n",
       "    </tr>\n",
       "    <tr>\n",
       "      <th>4</th>\n",
       "      <td>1162</td>\n",
       "      <td>Radiant Historia: Perfect Chronology</td>\n",
       "      <td>0.378601</td>\n",
       "    </tr>\n",
       "    <tr>\n",
       "      <th>5</th>\n",
       "      <td>190</td>\n",
       "      <td>Dark Souls II</td>\n",
       "      <td>0.337531</td>\n",
       "    </tr>\n",
       "    <tr>\n",
       "      <th>6</th>\n",
       "      <td>2865</td>\n",
       "      <td>Enslaved: Odyssey to the West - Pigsy's Perfec...</td>\n",
       "      <td>0.325176</td>\n",
       "    </tr>\n",
       "    <tr>\n",
       "      <th>7</th>\n",
       "      <td>753</td>\n",
       "      <td>Dark Cloud 2</td>\n",
       "      <td>0.324736</td>\n",
       "    </tr>\n",
       "    <tr>\n",
       "      <th>8</th>\n",
       "      <td>2599</td>\n",
       "      <td>Dark Cloud</td>\n",
       "      <td>0.324736</td>\n",
       "    </tr>\n",
       "    <tr>\n",
       "      <th>9</th>\n",
       "      <td>377</td>\n",
       "      <td>Dark Souls III</td>\n",
       "      <td>0.319866</td>\n",
       "    </tr>\n",
       "    <tr>\n",
       "      <th>10</th>\n",
       "      <td>947</td>\n",
       "      <td>Dark Souls Remastered</td>\n",
       "      <td>0.302510</td>\n",
       "    </tr>\n",
       "  </tbody>\n",
       "</table>\n",
       "</div>"
      ],
      "text/plain": [
       "    index                                               game    rating\n",
       "1    2233                                  Perfect Dark Zero  0.839272\n",
       "2    1207                      TimeSplitters: Future Perfect  0.472480\n",
       "3     406                                         Dark Souls  0.381355\n",
       "4    1162               Radiant Historia: Perfect Chronology  0.378601\n",
       "5     190                                      Dark Souls II  0.337531\n",
       "6    2865  Enslaved: Odyssey to the West - Pigsy's Perfec...  0.325176\n",
       "7     753                                       Dark Cloud 2  0.324736\n",
       "8    2599                                         Dark Cloud  0.324736\n",
       "9     377                                     Dark Souls III  0.319866\n",
       "10    947                              Dark Souls Remastered  0.302510"
      ]
     },
     "execution_count": 13,
     "metadata": {},
     "output_type": "execute_result"
    }
   ],
   "source": [
    "rec = get_recommendations(\"Perfect Dark\", topN = 10)\n",
    "rec"
   ]
  }
 ],
 "metadata": {
  "kernelspec": {
   "display_name": "practiceClass1",
   "language": "python",
   "name": "python3"
  },
  "language_info": {
   "codemirror_mode": {
    "name": "ipython",
    "version": 3
   },
   "file_extension": ".py",
   "mimetype": "text/x-python",
   "name": "python",
   "nbconvert_exporter": "python",
   "pygments_lexer": "ipython3",
   "version": "3.10.12"
  }
 },
 "nbformat": 4,
 "nbformat_minor": 2
}
